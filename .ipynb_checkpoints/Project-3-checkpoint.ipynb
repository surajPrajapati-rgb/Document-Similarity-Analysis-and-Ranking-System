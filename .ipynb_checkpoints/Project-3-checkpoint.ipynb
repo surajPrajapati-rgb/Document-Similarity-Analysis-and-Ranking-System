{
 "cells": [
  {
   "cell_type": "code",
   "execution_count": 7,
   "id": "8834e167-f26e-46a3-afe8-89e9331100db",
   "metadata": {},
   "outputs": [],
   "source": [
    "import os,re, math"
   ]
  },
  {
   "cell_type": "code",
   "execution_count": 8,
   "id": "61c95c0b-f4d5-492c-a05b-83f3534e6200",
   "metadata": {},
   "outputs": [],
   "source": [
    "def tokenize_document(document):\n",
    "    tokens = re.findall(r'\\w+', document)\n",
    "    return tokens"
   ]
  },
  {
   "cell_type": "code",
   "execution_count": 9,
   "id": "17d3a9cf-7e19-4940-9ca7-1634f1154f84",
   "metadata": {},
   "outputs": [],
   "source": [
    "def extract_text(directory, filename):\n",
    "    with open(os.path.join(directory, filename), 'r') as file:\n",
    "        text_data = file.read()\n",
    "        s_title = text_data.find(\"<TITLE>\")\n",
    "        e_title = text_data.find(\"</TITLE>\", 7)\n",
    "        \n",
    "        s_text = text_data.find(\"<TEXT>\")\n",
    "        e_text = text_data.find(\"</TEXT>\", 6)\n",
    "        \n",
    "        extracted_text = text_data[s_title+7:e_title].strip().lower() + \"\\n\" + text_data[s_text+6:e_text].strip().lower()\n",
    "        return extracted_text"
   ]
  },
  {
   "cell_type": "code",
   "execution_count": 16,
   "id": "84c269d7-9331-459e-82bb-a38c39532de4",
   "metadata": {},
   "outputs": [],
   "source": [
    "directory = '25-20240329T124513Z-001/25/'\n",
    "\n",
    "files = os.listdir(directory)\n",
    "doc_id  = 1\n",
    "token_id = 1\n",
    "docs = {} # dictionary of <DOCNO> entry to document-id\n",
    "dictionary = {} # dictionary of token to token-id\n",
    "term_to_docs = {}\n",
    "\n",
    "for filename in files:\n",
    "    docs[doc_id] = filename\n",
    "    doc_id+=1\n",
    "    document = extract_text(directory, filename)\n",
    "    tokens = tokenize_document(document)\n",
    "    for token in tokens:\n",
    "        \n",
    "        if token not in dictionary:\n",
    "            dictionary[token] = token_id\n",
    "            term_to_docs[dictionary[token]] = set() #unique documents\n",
    "            term_to_docs[dictionary[token]].add(doc_id)\n",
    "            token_id+=1\n",
    "        else:\n",
    "            term_to_docs[dictionary[token]].add(doc_id)"
   ]
  },
  {
   "cell_type": "code",
   "execution_count": 17,
   "id": "8394fc8c-b548-4bb4-bc81-418ae2dc9455",
   "metadata": {},
   "outputs": [],
   "source": [
    "# docs"
   ]
  },
  {
   "cell_type": "code",
   "execution_count": 18,
   "id": "8f05c39f-d02a-4f50-9462-6b572cc7eddd",
   "metadata": {},
   "outputs": [],
   "source": [
    "N = len(dictionary)\n",
    "tfs = {}\n",
    "idfs = {}\n",
    "for term, documents in term_to_docs.items():\n",
    "    tfs[term] = len(documents)\n",
    "    idf = math.log(N / tfs[term])\n",
    "    idfs[term] = round(idf, 2)"
   ]
  },
  {
   "cell_type": "code",
   "execution_count": 23,
   "id": "eafe80e6-9898-4db2-87a4-2eec60b6df1c",
   "metadata": {},
   "outputs": [],
   "source": [
    "# docs"
   ]
  },
  {
   "cell_type": "code",
   "execution_count": 24,
   "id": "e2504b43-e37d-4e8b-a436-a833a4c2aef3",
   "metadata": {},
   "outputs": [],
   "source": [
    "# for filename in files:\n",
    "for document in docs:\n",
    "    norm_cosine_vector = {}\n",
    "    document = extract_text(directory, filename)\n",
    "    tokens = tokenize_document(document)\n",
    "    vector = []\n",
    "    for token in tokens:\n",
    "        token_id = dictionary[token]\n",
    "        term_weight = tfs[token_id]*idfs[token_id]\n",
    "        vector.append(term_weight)\n",
    "    \n",
    "    norm_cosine_vector[1] = vector"
   ]
  },
  {
   "cell_type": "code",
   "execution_count": 29,
   "id": "00ea0992-9794-469b-a579-bae0834e4ef9",
   "metadata": {},
   "outputs": [
    {
     "data": {
      "text/plain": [
       "'in eastern europe, people pine for socialism\\nbelene, bulgaria, nov 8 (bdnews24.com/reuters) - in the dense forests of the idyllic danube island of persin, home to the endangered sea eagle and the pygmy cormorant, lie the ghastly remains of a communist-era death camp. hundreds \"enemies of the regime\" perished from beatings, malnutrition and exhaustion in 1949-59 in bulgaria\\'s belene concentration camp, where dead bodies were fed to pigs. twenty years after the fall of communism, belene is largely forgotten -- only a small marble plaque tells its horrific story. and nostalgia for the past is growing in the small balkan country and across the former soviet bloc. capitalism\\'s failure to lift living standards, impose the rule of law and tame flourishing corruption and nepotism have given way to fond memories of the times when the jobless rate was zero, food was cheap and social safety was high. \"(the bad) things have been forgotten,\" said rumen petkov, 42, a former guard now clerk at the only prison still functioning on the persin island. \"the nostalgia is palpable, particularly among the elderly,\" he said, in front of the crumbling buildings of another old jail opened on the site after the camp was shut in 1959. the communists imprisoned dozens of ethnic turks here in the 1980s when they refused to change their names to bulgarian. some young people in the impoverished town of belene, linked to the island with a pontoon bridge, also reminisce: \"we lived better in the past,\" said anelia beeva, 31. \"we went on holidays to the coast and the mountains, there were plenty of clothes, shoes, food. and now the biggest chunk of our incomes is spent on food. people with university degrees are unemployed and many go abroad.\" in russia, several soviet-themed restaurants have opened in moscow in recent years: some hold nostalgia nights where young people dress up as pioneers -- the soviet answer to the boy scouts and girl guides -- and dance to communist classics. soviet champagne and red october chocolates remain favourites for birthday celebrations. \"ussr\" t-shirts and baseball caps can be seen across the country in summer. while there is scant real desire for old regimes to be restored, analysts say apathy is a vital outcome. \"the big damage of the nostalgia...is that it dries out the energy for meaningful change,\" wrote bulgarian sociologist vladimir shopov in the online portal bg history. disenchantment across former communist eastern europe, disenchantment with democracy is widespread and pollsters say mistrust of the elites who made people citizens of the european union is staggering. a september regional poll by us pew research centre showed support for democracy and capitalism has seen the biggest fall in ukraine, bulgaria, lithuania and hungary. the poll showed 30 percent of ukrainians approved of the change to democracy in 2009, down from 72 percent in 1991. in bulgaria and lithuania the slide was to just over half the population from nearer three-quarters in 1991. surveys by us-based human rights group freedom house show backsliding or stagnation in corruption, governance, independent media and civil society in the new eu-member states. the global economic crisis, which has wounded the region and put an end to six or seven years of growth, is now challenging the remedy of neoliberal capitalism prescribed by the west. hopes of catching up with the wealthy western neighbours have been replaced by a sense of injustice because of a widening gap between the rich and the poor. in hungary, one of the countries worst hit by economic downturn, 70 percent of those who were already adults in 1989 say they were disappointed with the results of the regime change, an october survey by pollster szonda ipsos showed. people in the former yugoslav countries, scarred by the ethnic wars from the 1990s and still outside the eu, are nostalgic for the socialist era of josip broz tito when, unlike now, they travelled across europe without visa. \"everything was better then. there was no street crime, jobs were safe and salaries were enough for decent living,\" said belgrade pensioner koviljka markovic, 70. \"today i can hardly survive with my pension of 250 euros ($370 a month).\" golden era in bulgaria, the 33-year rule of the late dictator todor zhivkov begins to seem a golden era to some in comparison with the raging corruption and crime that followed his demise. over 60 percent say they lived better in the past, even though shopping queues were routine, social connections were the only way to obtain more valuable goods, jeans and coca cola were off-limits and it took up to 10 years\\' waiting to buy a car. \"for part of the bulgarians (social) security turned out to be more precious than freedom,\" wrote historians andrei pantev and bozhidar gavrilov in a book on the 100 most influential people in the balkan country\\'s history. nearly three years after joining the eu, bulgaria\\'s average monthly salary of about 300 euros and pension of about 80 euros remain the lowest in the club. incomes in the more affluent poland and the czech republic, which joined the bloc in 2004, are also still a fraction of those in western europe. a 2008 global survey by gallup ranked bulgaria, serbia and romania among the 10 most discontented countries in the world. \"our parents\\' generation was much more satisfied with what they had. everybody just wants more of everything these days,\" said zsofia kis, a 23-year old student in budapest, referring to the way communist regimes artifically held down unemployment. dalavera, mutri, mente after two decades of patchy, painful reforms, the majority of people refuse to make more sacrifices, as would be needed to complete a revamp of the economy and the judiciary. demoralisation and heightened popularity for political parties promising \"a firm hand\" are other consequences. not without reason. prime minister vladimir putin, a former kgb agent, described the fall of the soviet union as the \"the greatest geopolitical catastrophe of the century\". kremlin critics have accused the authorities of a creeping rehabilitation of the soviet union to justify their clampdowns on the media and opposition parties. \"there is an idealisation of the soviet past,\" said nikita petrov, an historian from the memorial human rights group. \"it\\'s a conscious policy. they are trying to show the soviet authorities looking decent and attractive to today\\'s generation.\" in bulgaria, oligarchs who control entire sectors of the economy have emerged from the former communist party\\'s ranks and its feared secret services. the names of corrupt politicians and crime bosses are an open secret, but bulgaria has not convicted a single senior official of graft and has jailed only one gang boss since 1989. no one has been convicted for the communist repressions. some of the most popular words among ordinary bulgarians are \"dalavera\", a turkish word meaning fraud, \"mutri\", a nickname for ugly mafiosi and \"mente\", which means counterfeit products. \"people are losing faith that one can achieve success in an honest, decent way. success is totally criminalised,\" said boriana dimitrova of bulgarian polling agency alpha research. she said the sense of injustice was particularly strong in the balkans, europe\\'s poorest corner, where untouchable parallel structures of power reign. \"some people say: \\'yes, the old regime was repressive but at least there was law and order.\\'\" a promise to end the climate of impunity helped tough-talking prime minister boiko borisov of the centre-right populist gerb party to a landslide election win in bulgaria in july. public discontent and recession mean only populist governments can survive in the region, analysts say. \"the level of mistrust in the political elite and institutions is so high that you cannot convince people to do anything under unpopular governments,\" said ivan krastev of sofia\\'s liberal strategies institute. some in bulgaria accuse the west of duplicity for easily swallowing the communist past of members of the new elite. the election of bulgarian irina bokova, 57, a former communist apparatchik and ambassador to paris, as head of the un culture and education body unesco in september was a stark example of the west\\'s hypocrisy, critics say. bokova studied in moscow during the communism and climbed the diplomatic career ladder in the 1990s thanks to her past. \"americanisation\" on one front at least, some eastern europeans say they have succeeded in catching up with and even outstripping capitalist standards -- the thirst for materialism. a big chunk of the loans taken in the boom years was spent on fancy cars and yachts, flat tv screens, designer clothes, silicon surgeries and exotic trips abroad. copying foreign standards went as far as giving babies western names and flooding tv screens with reality shows like \"big brother\". \"bulgaria is becoming americanised,\" said renowned bulgarian artist, nikola manev, who lives in paris. \"i pick up the phone and they talk to me in english, i go to a restaurant and it\\'s called miami. don\\'t we have our own names for god\\'s sake? \"looking on the surface, i see new buildings, shops, shiny cars. but people have become sadder, more aggressive and unhappy,\" he said, prescribing spiritual cures. this autumn for the first time in many years, tickets at sofia\\'s theatres are selling out weeks in advan'"
      ]
     },
     "execution_count": 29,
     "metadata": {},
     "output_type": "execute_result"
    }
   ],
   "source": [
    "# document"
   ]
  },
  {
   "cell_type": "code",
   "execution_count": 90,
   "id": "2e1c3f8f-3f1d-4a34-adca-4770eaa14cfc",
   "metadata": {},
   "outputs": [],
   "source": [
    "# def calculate_score(query, document):\n",
    "#     score = 0\n",
    "#     tokens = tokenize_document(query)\n",
    "#     for token in tokens:\n",
    "#         token_id = dictionary[token]\n",
    "#         Wtd = tfs[token_id] * idfs[token_id] \n",
    "#         query_score  +=  Wtd\n",
    "\n",
    "# query = \"socialism trying products\"\n",
    "# calculate_score(query, document)"
   ]
  },
  {
   "cell_type": "code",
   "execution_count": null,
   "id": "d27778f6-49b5-48de-9c69-9c427ce7a9a0",
   "metadata": {},
   "outputs": [],
   "source": []
  },
  {
   "cell_type": "code",
   "execution_count": 91,
   "id": "3ad3ac5e-13d1-4f13-81fd-dba462d8aa1a",
   "metadata": {},
   "outputs": [
    {
     "data": {
      "text/plain": [
       "112.59"
      ]
     },
     "execution_count": 91,
     "metadata": {},
     "output_type": "execute_result"
    }
   ],
   "source": [
    "query_score"
   ]
  },
  {
   "cell_type": "code",
   "execution_count": 92,
   "id": "9f6df890-95d8-49f1-91b8-f83a8d360daf",
   "metadata": {},
   "outputs": [],
   "source": [
    "# term_idfs = {}\n",
    "\n",
    "# for doc_id, filename in docs.items():\n",
    "#     document = extract_text(directory, filename)\n",
    "#     tokens = tokenize_document(document)\n",
    "#     for token in tokens:\n",
    "#         if token not in term_idfs:\n",
    "#             term_idfs[token] = []\n",
    "#             term_idfs[token].append(doc_id)\n",
    "#         else:\n",
    "#             term_idfs[token].append(doc_id)"
   ]
  },
  {
   "cell_type": "code",
   "execution_count": null,
   "id": "fa38260b-948a-4899-b9aa-12a42fc4b466",
   "metadata": {},
   "outputs": [],
   "source": []
  },
  {
   "cell_type": "code",
   "execution_count": 93,
   "id": "3dabbad6-e0b9-491f-aebd-a5dc70e3b8d8",
   "metadata": {},
   "outputs": [],
   "source": [
    "# term_idfs"
   ]
  },
  {
   "cell_type": "code",
   "execution_count": 94,
   "id": "b59f8ea1-e31a-4c21-8329-d5976eee203c",
   "metadata": {},
   "outputs": [],
   "source": [
    "# if token not in dictionary:\n",
    "#     dictionary[token] = []\n",
    "#     dictionary[token].append(i)\n",
    "# else:\n",
    "#     dictionary[token].append(i)"
   ]
  },
  {
   "cell_type": "code",
   "execution_count": 95,
   "id": "ed06a765-ab94-455e-ae13-afc9dd1cc094",
   "metadata": {},
   "outputs": [],
   "source": [
    "# document = \"This is an example document with some_underscored_words and 123numbers456.\"\n",
    "# tokens = tokenize_document(document)\n",
    "# print(tokens)"
   ]
  },
  {
   "cell_type": "code",
   "execution_count": 96,
   "id": "b11bf548-011e-41a8-8a57-ba2f658ed9b6",
   "metadata": {},
   "outputs": [],
   "source": [
    "# term_idfs = {}\n",
    "\n",
    "# for doc_id, filename in docs.items():\n",
    "#     document = extract_text(directory, filename)\n",
    "#     tokens = tokenize_document(document)\n",
    "#     for token in tokens:\n",
    "#         if token not in term_idfs:\n",
    "#             term_idfs[token] = []\n",
    "#             term_idfs[token].append(doc_id)\n",
    "#         else:\n",
    "#             term_idfs[token].append(doc_id)"
   ]
  },
  {
   "cell_type": "code",
   "execution_count": null,
   "id": "e912f426-3ca5-4913-ba35-e97bfba3ab4b",
   "metadata": {},
   "outputs": [],
   "source": []
  },
  {
   "cell_type": "code",
   "execution_count": null,
   "id": "a9ab4bee-d796-42c9-a0c8-8f908c7a960e",
   "metadata": {},
   "outputs": [],
   "source": []
  }
 ],
 "metadata": {
  "kernelspec": {
   "display_name": "Python 3 (ipykernel)",
   "language": "python",
   "name": "python3"
  },
  "language_info": {
   "codemirror_mode": {
    "name": "ipython",
    "version": 3
   },
   "file_extension": ".py",
   "mimetype": "text/x-python",
   "name": "python",
   "nbconvert_exporter": "python",
   "pygments_lexer": "ipython3",
   "version": "3.10.12"
  }
 },
 "nbformat": 4,
 "nbformat_minor": 5
}
